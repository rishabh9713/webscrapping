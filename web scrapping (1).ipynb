{
 "cells": [
  {
   "cell_type": "code",
   "execution_count": 2,
   "id": "306a5db9-c2fb-4dbd-841c-3d8b3aa6e8b5",
   "metadata": {},
   "outputs": [],
   "source": [
    "import requests\n",
    "from bs4 import BeautifulSoup as bs\n",
    "from urllib.request import urlopen\n",
    "import logging"
   ]
  },
  {
   "cell_type": "code",
   "execution_count": 3,
   "id": "90d383e4-b89f-47dd-b1e5-53a7fc788f10",
   "metadata": {},
   "outputs": [],
   "source": [
    "flipcart_url=\"https://www.flipkart.com/search?q=\"+\"iphone14promax\""
   ]
  },
  {
   "cell_type": "code",
   "execution_count": 4,
   "id": "2f1b52c0-b982-4a35-8898-963bcd2228ba",
   "metadata": {},
   "outputs": [
    {
     "data": {
      "text/plain": [
       "'https://www.flipkart.com/search?q=iphone14promax'"
      ]
     },
     "execution_count": 4,
     "metadata": {},
     "output_type": "execute_result"
    }
   ],
   "source": [
    "flipcart_url"
   ]
  },
  {
   "cell_type": "code",
   "execution_count": 5,
   "id": "e550f2da-636e-4e72-bdad-c6a443bdc7ba",
   "metadata": {},
   "outputs": [],
   "source": [
    "url_client=urlopen(flipcart_url)"
   ]
  },
  {
   "cell_type": "code",
   "execution_count": 6,
   "id": "d7dfd1fe-d038-423e-bc10-166249f57f4f",
   "metadata": {},
   "outputs": [
    {
     "data": {
      "text/plain": [
       "<http.client.HTTPResponse at 0x7f07f4729300>"
      ]
     },
     "execution_count": 6,
     "metadata": {},
     "output_type": "execute_result"
    }
   ],
   "source": [
    "url_client"
   ]
  },
  {
   "cell_type": "code",
   "execution_count": 7,
   "id": "d9b29671-2939-4067-94c8-abe8823d84d6",
   "metadata": {},
   "outputs": [],
   "source": [
    "flipcard_page=url_client.read()"
   ]
  },
  {
   "cell_type": "code",
   "execution_count": 8,
   "id": "1a09b533-2251-4b09-bf81-f663dea01ca3",
   "metadata": {},
   "outputs": [],
   "source": [
    "flipcard_html=bs(flipcard_page,\"html.parser\")"
   ]
  },
  {
   "cell_type": "code",
   "execution_count": 9,
   "id": "d34c83fc-f7e6-45dc-b67d-5ef85b9d5fb8",
   "metadata": {},
   "outputs": [
    {
     "data": {
      "text/plain": [
       "'https://www.flipkart.com/apple-iphone-14-pro-max-gold-128-gb/p/itm898d084d8a65f?pid=MOBGHWFHGDS3H5S9&amp;lid=LSTMOBGHWFHGDS3H5S9AM0G7C&amp;marketplace=FLIPKART&amp;q=iphone14promax&amp;store=tyy%2F4io&amp;srno=s_1_2&amp;otracker=search&amp;fm=organic&amp;iid=b6de52e0-692e-4057-adf6-af6d0e1a93e0.MOBGHWFHGDS3H5S9.SEARCH&amp;ppt=None&amp;ppn=None&amp;ssid=9gibdezo1c0000001694329799659&amp;qH=f51796ea5f1fbb15'"
      ]
     },
     "execution_count": 9,
     "metadata": {},
     "output_type": "execute_result"
    }
   ],
   "source": [
    "\"https://www.flipkart.com\"+\"/apple-iphone-14-pro-max-gold-128-gb/p/itm898d084d8a65f?pid=MOBGHWFHGDS3H5S9&amp;lid=LSTMOBGHWFHGDS3H5S9AM0G7C&amp;marketplace=FLIPKART&amp;q=iphone14promax&amp;store=tyy%2F4io&amp;srno=s_1_2&amp;otracker=search&amp;fm=organic&amp;iid=b6de52e0-692e-4057-adf6-af6d0e1a93e0.MOBGHWFHGDS3H5S9.SEARCH&amp;ppt=None&amp;ppn=None&amp;ssid=9gibdezo1c0000001694329799659&amp;qH=f51796ea5f1fbb15\""
   ]
  },
  {
   "cell_type": "code",
   "execution_count": 10,
   "id": "fe02f9af-e56f-41ef-9c03-78ffa3ae67f0",
   "metadata": {},
   "outputs": [],
   "source": [
    "bigbox=flipcard_html.findAll(\"div\" ,{\"class\":\"_1AtVbE col-12-12\"})"
   ]
  },
  {
   "cell_type": "code",
   "execution_count": 11,
   "id": "d8c4102c-49bb-4306-b780-0d4142f86589",
   "metadata": {},
   "outputs": [],
   "source": [
    "del bigbox[0:3]"
   ]
  },
  {
   "cell_type": "code",
   "execution_count": 12,
   "id": "4acb18f1-f406-4b9c-928c-eeb8bfba5e65",
   "metadata": {},
   "outputs": [
    {
     "data": {
      "text/plain": [
       "26"
      ]
     },
     "execution_count": 12,
     "metadata": {},
     "output_type": "execute_result"
    }
   ],
   "source": [
    "len(bigbox)"
   ]
  },
  {
   "cell_type": "code",
   "execution_count": 13,
   "id": "95dd3240-29c4-4b46-b1a7-c531afda203f",
   "metadata": {},
   "outputs": [
    {
     "data": {
      "text/plain": [
       "<div class=\"_1AtVbE col-12-12\"><div class=\"_13oc-S\"><div data-id=\"MOBGHWFHZVHJM4HZ\" style=\"width:100%\"><div class=\"_2kHMtA\"><a class=\"_1fQZEK\" href=\"/apple-iphone-14-pro-max-gold-256-gb/p/itmd21bfa03be8c2?pid=MOBGHWFHZVHJM4HZ&amp;lid=LSTMOBGHWFHZVHJM4HZLWF9MT&amp;marketplace=FLIPKART&amp;q=iphone14promax&amp;store=tyy%2F4io&amp;srno=s_1_6&amp;otracker=search&amp;fm=organic&amp;iid=539fbbb2-05f0-4ff2-88dc-bbaaff17e8a9.MOBGHWFHZVHJM4HZ.SEARCH&amp;ppt=None&amp;ppn=None&amp;ssid=oikgu1ea400000001694529718980&amp;qH=f51796ea5f1fbb15\" rel=\"noopener noreferrer\" target=\"_blank\"><div class=\"MIXNux\"><div class=\"_2QcLo-\"><div><div class=\"CXW8mj\" style=\"height:200px;width:200px\"><img alt=\"APPLE iPhone 14 Pro Max (Gold, 256 GB)\" class=\"_396cs4\" loading=\"eager\" src=\"https://rukminim2.flixcart.com/image/312/312/xif0q/mobile/k/u/6/-original-imaghxen343tbjgj.jpeg?q=70\"/></div></div><div class=\"_3G6awp\"><span class=\"_192laR\">Currently unavailable</span></div></div><div class=\"_3wLduG\"><div class=\"_3PzNI-\"><span class=\"f3A4_V\"><label class=\"_2iDkf8\"><input class=\"_30VH1S\" readonly=\"\" type=\"checkbox\"/><div class=\"_24_Dny\"></div></label></span><label class=\"_6Up2sF\"><span>Add to Compare</span></label></div></div><div class=\"_2hVSre _3nq8ih\"><div class=\"_36FSn5\"><svg class=\"_1l0elc\" height=\"16\" viewbox=\"0 0 20 16\" width=\"16\" xmlns=\"http://www.w3.org/2000/svg\"><path class=\"eX72wL\" d=\"M8.695 16.682C4.06 12.382 1 9.536 1 6.065 1 3.219 3.178 1 5.95 1c1.566 0 3.069.746 4.05 1.915C10.981 1.745 12.484 1 14.05 1 16.822 1 19 3.22 19 6.065c0 3.471-3.06 6.316-7.695 10.617L10 17.897l-1.305-1.215z\" fill=\"#2874F0\" fill-rule=\"evenodd\" opacity=\".9\" stroke=\"#FFF\"></path></svg></div></div></div><div class=\"_3pLy-c row\"><div class=\"col col-7-12\"><div class=\"_4rR01T\">APPLE iPhone 14 Pro Max (Gold, 256 GB)</div><div class=\"gUuXy-\"><span class=\"_1lRcqv\" id=\"productRating_LSTMOBGHWFHZVHJM4HZLWF9MT_MOBGHWFHZVHJM4HZ_\"><div class=\"_3LWZlK\">4.6<img class=\"_1wB99o\" src=\"data:image/svg+xml;base64,PHN2ZyB4bWxucz0iaHR0cDovL3d3dy53My5vcmcvMjAwMC9zdmciIHdpZHRoPSIxMyIgaGVpZ2h0PSIxMiI+PHBhdGggZmlsbD0iI0ZGRiIgZD0iTTYuNSA5LjQzOWwtMy42NzQgMi4yMy45NC00LjI2LTMuMjEtMi44ODMgNC4yNTQtLjQwNEw2LjUuMTEybDEuNjkgNC4wMSA0LjI1NC40MDQtMy4yMSAyLjg4Mi45NCA0LjI2eiIvPjwvc3ZnPg==\"/></div></span><span class=\"_2_R_DZ\"><span><span>1,999 Ratings </span><span class=\"_13vcmD\">&amp;</span><span> 146 Reviews</span></span></span></div><div class=\"fMghEO\"><ul class=\"_1xgFaf\"><li class=\"rgWa7D\">256 GB ROM</li><li class=\"rgWa7D\">17.02 cm (6.7 inch) Super Retina XDR Display</li><li class=\"rgWa7D\">48MP + 12MP + 12MP | 12MP Front Camera</li><li class=\"rgWa7D\">A16 Bionic Chip, 6 Core Processor Processor</li><li class=\"rgWa7D\">1 Year Warranty for Phone and 6 Months Warranty for In-Box Accessories</li></ul></div></div><div class=\"col col-5-12 nlI3QM\"><div class=\"_3tbKJL\"><div class=\"_25b18c\"><div class=\"_30jeq3 _1_WHN1\">₹1,37,999</div><div class=\"_3I9_wc _27UcVY\">₹<!-- -->1,49,900</div><div class=\"_3Ay6Sb\"><span>7% off</span></div></div><div class=\"_3tcB5a p8ucoS\"><div><div class=\"_2Tpdn3\" style=\"color:#000000;font-size:12px;font-weight:400\">Free delivery by</div><div class=\"_2Tpdn3\" style=\"color:#000000;font-size:12px;font-style:normal;font-weight:700\"> Today</div></div></div></div><div class=\"_13J9qT\"><img height=\"21\" src=\"//static-assets-web.flixcart.com/fk-p-linchpin-web/fk-cp-zion/img/fa_62673a.png\"/></div><div class=\"_2ZdXDB\"><div class=\"_3xFhiH\"><div class=\"_2Tpdn3 _18hQoS\" style=\"color:#26A541;font-size:12px;font-style:normal;font-weight:700\">Save extra with combo offers</div></div></div><div class=\"_2ZdXDB\"><div class=\"_3xFhiH\"><div class=\"_2Tpdn3 _18hQoS\" style=\"color:#000000;font-size:14px;font-style:normal;font-weight:400\">Upto </div><div class=\"_2Tpdn3 _18hQoS\" style=\"color:#000000;font-size:14px;font-style:normal;font-weight:700\">₹30,600</div><div class=\"_2Tpdn3 _18hQoS\" style=\"color:#000000;font-size:14px;font-style:normal;font-weight:400\"> Off on Exchange</div></div></div></div></div></a></div></div></div></div>"
      ]
     },
     "execution_count": 13,
     "metadata": {},
     "output_type": "execute_result"
    }
   ],
   "source": [
    "bigbox[4]"
   ]
  },
  {
   "cell_type": "code",
   "execution_count": 17,
   "id": "54470103-f04f-46d7-8e02-ce0c29dc715b",
   "metadata": {},
   "outputs": [],
   "source": [
    "productlink=\"https://www.flipkart.com\"+bigbox[4].div.div.div.a[\"href\"]"
   ]
  },
  {
   "cell_type": "code",
   "execution_count": 18,
   "id": "bb5d3ddb-f162-4270-a799-a0f9d9069b36",
   "metadata": {},
   "outputs": [],
   "source": [
    "product_req=requests.get(productlink)"
   ]
  },
  {
   "cell_type": "code",
   "execution_count": 19,
   "id": "d96c5801-1c53-4650-ba09-f3f2220dee3f",
   "metadata": {},
   "outputs": [
    {
     "data": {
      "text/plain": [
       "'https://www.flipkart.com/apple-iphone-14-pro-max-space-black-512-gb/p/itm68fe95bfc58dd?pid=MOBGHWFHSTGZHYAT&lid=LSTMOBGHWFHSTGZHYATDCZBHP&marketplace=FLIPKART&q=iphone14promax&store=tyy%2F4io&srno=s_1_6&otracker=search&fm=organic&iid=3378c92f-b4a7-42c5-8775-472fb954fb7c.MOBGHWFHSTGZHYAT.SEARCH&ppt=None&ppn=None&ssid=6pe3n70u1s0000001694333370925&qH=f51796ea5f1fbb15'"
      ]
     },
     "execution_count": 19,
     "metadata": {},
     "output_type": "execute_result"
    }
   ],
   "source": [
    "productlink"
   ]
  },
  {
   "cell_type": "code",
   "execution_count": 20,
   "id": "02308c60-2654-4d8e-ba94-2a4d953e37d0",
   "metadata": {},
   "outputs": [],
   "source": [
    "product_html=bs(product_req.text,\"html.parser\")"
   ]
  },
  {
   "cell_type": "code",
   "execution_count": 21,
   "id": "76adf63d-3ed9-4a20-855f-d4fe6c6fc0b4",
   "metadata": {},
   "outputs": [],
   "source": [
    "comment_box=product_html.find_all(\"div\",{\"class\":\"_16PBlm\"})"
   ]
  },
  {
   "cell_type": "code",
   "execution_count": 22,
   "id": "15de7118-9574-49d6-bcb7-9130a8bdcde5",
   "metadata": {},
   "outputs": [
    {
     "data": {
      "text/plain": [
       "11"
      ]
     },
     "execution_count": 22,
     "metadata": {},
     "output_type": "execute_result"
    }
   ],
   "source": [
    "len(comment_box)"
   ]
  },
  {
   "cell_type": "code",
   "execution_count": 31,
   "id": "9cb01115-ee2a-4bf0-b548-4c6acf16e26f",
   "metadata": {},
   "outputs": [
    {
     "data": {
      "text/plain": [
       "'Sandhya Rani Mohapatra'"
      ]
     },
     "execution_count": 31,
     "metadata": {},
     "output_type": "execute_result"
    }
   ],
   "source": [
    "comment_box[0].div.div.find_all(\"p\",{\"class\":\"_2sc7ZR _2V5EHH\"})[0].text"
   ]
  },
  {
   "cell_type": "code",
   "execution_count": 32,
   "id": "f7a02cdd-9e1d-4aab-af91-148a3ce61d6d",
   "metadata": {},
   "outputs": [
    {
     "name": "stdout",
     "output_type": "stream",
     "text": [
      "Sandhya Rani Mohapatra\n",
      "Flipkart Customer\n",
      "Taniya Poddar\n",
      "New world Order NWO\n",
      "dipam\n",
      "Naresh Meher\n",
      "Awadh  Sharma\n",
      "Saurabh Kumar\n",
      "Vikrant Porswal\n",
      "Flipkart Customer\n"
     ]
    },
    {
     "ename": "AttributeError",
     "evalue": "'NoneType' object has no attribute 'div'",
     "output_type": "error",
     "traceback": [
      "\u001b[0;31m---------------------------------------------------------------------------\u001b[0m",
      "\u001b[0;31mAttributeError\u001b[0m                            Traceback (most recent call last)",
      "Cell \u001b[0;32mIn[32], line 2\u001b[0m\n\u001b[1;32m      1\u001b[0m \u001b[38;5;28;01mfor\u001b[39;00m i \u001b[38;5;129;01min\u001b[39;00m comment_box:\n\u001b[0;32m----> 2\u001b[0m     \u001b[38;5;28mprint\u001b[39m(\u001b[43mi\u001b[49m\u001b[38;5;241;43m.\u001b[39;49m\u001b[43mdiv\u001b[49m\u001b[38;5;241;43m.\u001b[39;49m\u001b[43mdiv\u001b[49m\u001b[38;5;241m.\u001b[39mfind_all(\u001b[38;5;124m\"\u001b[39m\u001b[38;5;124mp\u001b[39m\u001b[38;5;124m\"\u001b[39m,{\u001b[38;5;124m\"\u001b[39m\u001b[38;5;124mclass\u001b[39m\u001b[38;5;124m\"\u001b[39m:\u001b[38;5;124m\"\u001b[39m\u001b[38;5;124m_2sc7ZR _2V5EHH\u001b[39m\u001b[38;5;124m\"\u001b[39m})[\u001b[38;5;241m0\u001b[39m]\u001b[38;5;241m.\u001b[39mtext)\n",
      "\u001b[0;31mAttributeError\u001b[0m: 'NoneType' object has no attribute 'div'"
     ]
    }
   ],
   "source": [
    "for i in comment_box:\n",
    "    print(i.div.div.find_all(\"p\",{\"class\":\"_2sc7ZR _2V5EHH\"})[0].text)"
   ]
  },
  {
   "cell_type": "code",
   "execution_count": 1,
   "id": "2d0573bf-02e5-4d8d-af7d-606ca5f96a58",
   "metadata": {},
   "outputs": [
    {
     "ename": "NameError",
     "evalue": "name 'comment_box' is not defined",
     "output_type": "error",
     "traceback": [
      "\u001b[0;31m---------------------------------------------------------------------------\u001b[0m",
      "\u001b[0;31mNameError\u001b[0m                                 Traceback (most recent call last)",
      "Cell \u001b[0;32mIn[1], line 1\u001b[0m\n\u001b[0;32m----> 1\u001b[0m \u001b[43mcomment_box\u001b[49m[\u001b[38;5;241m0\u001b[39m]\u001b[38;5;241m.\u001b[39mdiv\u001b[38;5;241m.\u001b[39mdiv\u001b[38;5;241m.\u001b[39mdiv\u001b[38;5;241m.\u001b[39mdiv\u001b[38;5;241m.\u001b[39mtext\n",
      "\u001b[0;31mNameError\u001b[0m: name 'comment_box' is not defined"
     ]
    }
   ],
   "source": [
    "comment_box[0].div.div.div.div.text"
   ]
  },
  {
   "cell_type": "code",
   "execution_count": null,
   "id": "1f3353db-bca8-4d6e-a2ce-fc1abbab8488",
   "metadata": {},
   "outputs": [],
   "source": []
  }
 ],
 "metadata": {
  "kernelspec": {
   "display_name": "Python 3 (ipykernel)",
   "language": "python",
   "name": "python3"
  },
  "language_info": {
   "codemirror_mode": {
    "name": "ipython",
    "version": 3
   },
   "file_extension": ".py",
   "mimetype": "text/x-python",
   "name": "python",
   "nbconvert_exporter": "python",
   "pygments_lexer": "ipython3",
   "version": "3.10.8"
  }
 },
 "nbformat": 4,
 "nbformat_minor": 5
}
